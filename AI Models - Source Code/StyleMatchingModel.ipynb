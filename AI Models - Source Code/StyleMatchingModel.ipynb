{
 "cells": [
  {
   "cell_type": "markdown",
   "metadata": {},
   "source": [
    "# Part of projects"
   ]
  },
  {
   "cell_type": "markdown",
   "metadata": {},
   "source": [
    "- Classification Model for clothes parts\n",
    "- Search Engine By Similarty (Style Matching)"
   ]
  },
  {
   "cell_type": "code",
   "execution_count": null,
   "metadata": {},
   "outputs": [],
   "source": [
    "# import packge \n",
    "import tensorflow as tf\n",
    "from tensorflow.keras.models import Sequential\n",
    "from tensorflow.keras.layers import Dense, Dropout, Activation, Flatten\n",
    "from tensorflow.keras.layers import Conv2D, MaxPooling2D\n",
    "from tensorflow.keras.callbacks import TensorBoard\n",
    "from tensorflow.keras.utils import to_categorical\n",
    "import matplotlib.pyplot as plt\n",
    "import pandas as pd \n",
    "import numpy as np\n",
    "import os \n",
    "import glob2 as gb\n",
    "import cv2"
   ]
  },
  {
   "cell_type": "code",
   "execution_count": 3,
   "metadata": {},
   "outputs": [],
   "source": [
    "# path the folders of the images \n",
    "train_path = 'E:\\\\images\\\\'"
   ]
  },
  {
   "cell_type": "markdown",
   "metadata": {},
   "source": [
    "Now i need to know size of the images in all folder "
   ]
  },
  {
   "cell_type": "code",
   "execution_count": 4,
   "metadata": {},
   "outputs": [
    {
     "name": "stdout",
     "output_type": "stream",
     "text": [
      "for traning data , found112 in folder pants\n",
      "for traning data , found112 in folder shirts\n",
      "for traning data , found112 in folder shoes\n"
     ]
    }
   ],
   "source": [
    "\n",
    "\n",
    "for folder in os.listdir(train_path):\n",
    "    files = gb.glob(pathname=str(train_path)+folder+'/*jpg')\n",
    "    print(f'for traning data , found{len(files)} in folder {folder}')\n",
    "    "
   ]
  },
  {
   "cell_type": "code",
   "execution_count": 5,
   "metadata": {},
   "outputs": [],
   "source": [
    "# i will use it in future to replace number with the name \n",
    "code = {'shirts':0,'shoes':1,'pants':2}\n",
    "def getcode(n):\n",
    "    for x,y in code.items():\n",
    "        if n==y:\n",
    "            return x"
   ]
  },
  {
   "cell_type": "markdown",
   "metadata": {},
   "source": [
    "Now in need also to know the most size of images in folder "
   ]
  },
  {
   "cell_type": "code",
   "execution_count": 6,
   "metadata": {},
   "outputs": [
    {
     "data": {
      "text/plain": [
       "(300, 300, 3)    45\n",
       "(300, 257, 3)    14\n",
       "(300, 240, 3)    13\n",
       "(300, 200, 3)     9\n",
       "(300, 225, 3)     8\n",
       "                 ..\n",
       "(300, 94, 3)      1\n",
       "(300, 168, 3)     1\n",
       "(300, 258, 3)     1\n",
       "(273, 300, 3)     1\n",
       "(201, 300, 3)     1\n",
       "Length: 160, dtype: int64"
      ]
     },
     "execution_count": 6,
     "metadata": {},
     "output_type": "execute_result"
    }
   ],
   "source": [
    "size = []\n",
    "for folder in os.listdir(train_path):\n",
    "    files = gb.glob(pathname=str(train_path) + folder + '/*jpg')\n",
    "    for file in files :\n",
    "        image = plt.imread(file)\n",
    "        size.append(image.shape)\n",
    "pd.Series(size).value_counts()"
   ]
  },
  {
   "cell_type": "code",
   "execution_count": 9,
   "metadata": {},
   "outputs": [],
   "source": [
    "\n",
    "# create input images and output the label name \n",
    "x = []\n",
    "y = []\n",
    "\n",
    "for folder in os.listdir(train_path):\n",
    "    files = gb.glob(pathname=str(train_path) + folder + '/*jpg')\n",
    "    for file in files :\n",
    "        image = cv2.imread(file)\n",
    "        image_array = cv2.resize(image,(300,100))\n",
    "        x.append(list(image_array))\n",
    "        y.append(code[folder])"
   ]
  },
  {
   "cell_type": "code",
   "execution_count": 10,
   "metadata": {},
   "outputs": [
    {
     "name": "stdout",
     "output_type": "stream",
     "text": [
      "(100, 300, 3)\n",
      "shape of x_train[5] :  (100, 300, 3)\n",
      "x_train shape : (268, 100, 300, 3)\n",
      "y_train shape : (268,)\n"
     ]
    },
    {
     "data": {
      "image/png": "[encoded data removed]",
      "text/plain": [
       "<Figure size 432x288 with 1 Axes>"
      ]
     },
     "metadata": {
      "needs_background": "light"
     },
     "output_type": "display_data"
    }
   ],
   "source": [
    "import numpy as np\n",
    "# split my data \n",
    "from sklearn.model_selection import train_test_split \n",
    "\n",
    "x_train , x_test , y_train , y_test = train_test_split(x, y, test_size = 0.2)\n",
    "\n",
    "# Note my data in list ?! so it list must convert to array \n",
    "\n",
    "x_train = np.asarray(x_train)\n",
    "x_test = np.asarray(x_test)\n",
    "y_train = np.asarray(y_train)\n",
    "y_test = np.asarray(y_test)\n",
    "\n",
    "\n",
    "\n",
    "\n",
    "plt.imshow(x_train[1])\n",
    "print(x_train[0].shape)\n",
    "print('shape of x_train[5] : ', x_train[5].shape)\n",
    "print('x_train shape :' , x_train.shape)\n",
    "print('y_train shape :' , y_train.shape)"
   ]
  },
  {
   "cell_type": "code",
   "execution_count": 11,
   "metadata": {
    "scrolled": false
   },
   "outputs": [
    {
     "name": "stdout",
     "output_type": "stream",
     "text": [
      "sample x_tra[0] : \n",
      "  [[[0.95294118 0.9372549  0.93333333]\n",
      "  [0.95294118 0.9372549  0.93333333]\n",
      "  [0.95294118 0.9372549  0.93333333]\n",
      "  ...\n",
      "  [0.8745098  0.86666667 0.8627451 ]\n",
      "  [0.8745098  0.86666667 0.8627451 ]\n",
      "  [0.8745098  0.86666667 0.8627451 ]]\n",
      "\n",
      " [[0.95294118 0.9372549  0.93333333]\n",
      "  [0.95294118 0.9372549  0.93333333]\n",
      "  [0.95294118 0.9372549  0.93333333]\n",
      "  ...\n",
      "  [0.87843137 0.87058824 0.86666667]\n",
      "  [0.87843137 0.87058824 0.86666667]\n",
      "  [0.87843137 0.87058824 0.86666667]]\n",
      "\n",
      " [[0.95294118 0.9372549  0.93333333]\n",
      "  [0.95294118 0.9372549  0.93333333]\n",
      "  [0.95294118 0.9372549  0.93333333]\n",
      "  ...\n",
      "  [0.88235294 0.8745098  0.87058824]\n",
      "  [0.88235294 0.8745098  0.87058824]\n",
      "  [0.88235294 0.8745098  0.87058824]]\n",
      "\n",
      " ...\n",
      "\n",
      " [[0.94117647 0.93333333 0.93333333]\n",
      "  [0.94117647 0.93333333 0.93333333]\n",
      "  [0.94117647 0.93333333 0.93333333]\n",
      "  ...\n",
      "  [0.90196078 0.88627451 0.88235294]\n",
      "  [0.90196078 0.88627451 0.88235294]\n",
      "  [0.90196078 0.88627451 0.88235294]]\n",
      "\n",
      " [[0.9372549  0.92941176 0.92941176]\n",
      "  [0.9372549  0.92941176 0.92941176]\n",
      "  [0.9372549  0.92941176 0.92941176]\n",
      "  ...\n",
      "  [0.90196078 0.88627451 0.88235294]\n",
      "  [0.90196078 0.88627451 0.88235294]\n",
      "  [0.90196078 0.88627451 0.88235294]]\n",
      "\n",
      " [[0.9372549  0.92941176 0.92941176]\n",
      "  [0.9372549  0.92941176 0.92941176]\n",
      "  [0.9372549  0.92941176 0.92941176]\n",
      "  ...\n",
      "  [0.89019608 0.8745098  0.87058824]\n",
      "  [0.89019608 0.8745098  0.87058824]\n",
      "  [0.89019608 0.8745098  0.87058824]]]\n"
     ]
    }
   ],
   "source": [
    "# next step should be normlize image \n",
    "x_train , x_test = x_train/255.0 , x_test/255.0\n",
    "print('sample x_tra[0] : \\n ' ,x_train[0])"
   ]
  },
  {
   "cell_type": "code",
   "execution_count": 12,
   "metadata": {},
   "outputs": [
    {
     "data": {
      "text/plain": [
       "array([0., 0., 1.], dtype=float32)"
      ]
     },
     "execution_count": 12,
     "metadata": {},
     "output_type": "execute_result"
    }
   ],
   "source": [
    "# in the same step convert ouput by using one hot encoding \n",
    "y_train = to_categorical(y_train)\n",
    "y_test  = to_categorical(y_test)\n",
    "y_train[0]"
   ]
  },
  {
   "cell_type": "code",
   "execution_count": 13,
   "metadata": {},
   "outputs": [],
   "source": [
    "# cangtulration abdo  ^_^ finally create our model \n",
    "model = Sequential()\n",
    "model.add(Conv2D(64,kernel_size = 3 , activation = 'relu',input_shape = (100,300,3)))\n",
    "model.add(Conv2D(32,kernel_size = 3 , activation = 'relu'))\n",
    "model.add(Flatten())\n",
    "model.add(Dense(3,activation='softmax'))"
   ]
  },
  {
   "cell_type": "code",
   "execution_count": 14,
   "metadata": {},
   "outputs": [
    {
     "name": "stdout",
     "output_type": "stream",
     "text": [
      "Model: \"sequential\"\n",
      "_________________________________________________________________\n",
      "Layer (type)                 Output Shape              Param #   \n",
      "=================================================================\n",
      "conv2d (Conv2D)              (None, 98, 298, 64)       1792      \n",
      "_________________________________________________________________\n",
      "conv2d_1 (Conv2D)            (None, 96, 296, 32)       18464     \n",
      "_________________________________________________________________\n",
      "flatten (Flatten)            (None, 909312)            0         \n",
      "_________________________________________________________________\n",
      "dense (Dense)                (None, 3)                 2727939   \n",
      "=================================================================\n",
      "Total params: 2,748,195\n",
      "Trainable params: 2,748,195\n",
      "Non-trainable params: 0\n",
      "_________________________________________________________________\n"
     ]
    }
   ],
   "source": [
    "model.summary()"
   ]
  },
  {
   "cell_type": "code",
   "execution_count": 15,
   "metadata": {},
   "outputs": [],
   "source": [
    "# compile our model \n",
    "model.compile(tf.keras.optimizers.SGD(lr = 0.000001),loss = 'categorical_crossentropy',metrics=['accuracy'])"
   ]
  },
  {
   "cell_type": "code",
   "execution_count": 16,
   "metadata": {},
   "outputs": [
    {
     "name": "stdout",
     "output_type": "stream",
     "text": [
      "Train on 268 samples, validate on 68 samples\n",
      "268/268 [==============================] - 31s 116ms/sample - loss: 1.0849 - accuracy: 0.3545 - val_loss: 1.0707 - val_accuracy: 0.4853\n"
     ]
    },
    {
     "data": {
      "text/plain": [
       "<tensorflow.python.keras.callbacks.History at 0x18670a36fc8>"
      ]
     },
     "execution_count": 16,
     "metadata": {},
     "output_type": "execute_result"
    }
   ],
   "source": [
    "# fit or train our model \n",
    "model.fit(x_train,y_train,validation_data=(x_test,y_test),epochs= 20 )"
   ]
  },
  {
   "cell_type": "code",
   "execution_count": 27,
   "metadata": {
    "scrolled": true
   },
   "outputs": [
    {
     "data": {
      "image/png": "[encoded data removed]",
      "text/plain": [
       "<Figure size 720x720 with 3 Axes>"
      ]
     },
     "metadata": {},
     "output_type": "display_data"
    },
    {
     "name": "stdout",
     "output_type": "stream",
     "text": [
      "prediction table is :  shirts\n",
      "prediction table is :  shoes\n",
      "prediction table is :  pants\n",
      "true table is : [2 2 2]\n"
     ]
    }
   ],
   "source": [
    "# predict \n",
    "pred = model.predict(x_test[:3])\n",
    "prediction = np.argmax(pred,1)\n",
    "\n",
    "# visulaize\n",
    "\n",
    "plt.figure(figsize=(10,10))\n",
    "for i in range(3):\n",
    "  plt.subplot(3,3,i+1)\n",
    "  plt.xticks([])\n",
    "  plt.yticks([])\n",
    "  plt.grid(False)\n",
    "  plt.imshow(np.squeeze(x_test[i]),cmap = plt.cm.binary)\n",
    "  \n",
    "plt.show()\n",
    "\n",
    "for x in range (3):\n",
    "    print('prediction table is : ' , getcode(x))\n",
    "\n",
    "print('true table is :',np.where(y_test[:3]==1)[1])"
   ]
  },
  {
   "cell_type": "code",
   "execution_count": null,
   "metadata": {},
   "outputs": [],
   "source": []
  }
 ],
 "metadata": {
  "kernelspec": {
   "display_name": "Python 3",
   "language": "python",
   "name": "python3"
  },
  "language_info": {
   "codemirror_mode": {
    "name": "ipython",
    "version": 3
   },
   "file_extension": ".py",
   "mimetype": "text/x-python",
   "name": "python",
   "nbconvert_exporter": "python",
   "pygments_lexer": "ipython3",
   "version": "3.6.3"
  }
 },
 "nbformat": 4,
 "nbformat_minor": 2
}
